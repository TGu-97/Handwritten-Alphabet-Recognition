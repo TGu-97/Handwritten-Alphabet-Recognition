{
    "cells": [
        {
            "cell_type": "code",
            "execution_count": 13,
            "source": [
                "import src.load_data as ld\r\n",
                "from sklearn.model_selection import KFold\r\n",
                "from sklearn.model_selection import cross_val_score\r\n",
                "from keras.wrappers.scikit_learn import KerasClassifier\r\n",
                "import pandas as pd\r\n",
                "import time\r\n",
                "import src.model as md\r\n",
                "import numpy as np"
            ],
            "outputs": [],
            "metadata": {}
        },
        {
            "cell_type": "code",
            "execution_count": 14,
            "source": [
                "from sklearn.model_selection import train_test_split\r\n",
                "x, y = ld.load_data('data/A_Z Handwritten Data.csv')\r\n",
                "kf = KFold(n_splits=5, shuffle=True)"
            ],
            "outputs": [],
            "metadata": {}
        },
        {
            "cell_type": "code",
            "execution_count": 26,
            "source": [
                "train_x,test_x,train_y,test_y = train_test_split(x,y,test_size=0.975)\r\n",
                "train_x.shape"
            ],
            "outputs": [
                {
                    "output_type": "execute_result",
                    "data": {
                        "text/plain": [
                            "(9311, 784)"
                        ]
                    },
                    "metadata": {},
                    "execution_count": 26
                }
            ],
            "metadata": {}
        },
        {
            "cell_type": "code",
            "execution_count": 4,
            "source": [
                "from sklearn import svm\r\n",
                "model = svm.SVC(C=float('inf'), kernel='rbf', probability=True, decision_function_shape='ovo', verbose=True)\r\n",
                "model.fit(train_x, train_y)"
            ],
            "outputs": [
                {
                    "output_type": "stream",
                    "name": "stdout",
                    "text": [
                        "[LibSVM]"
                    ]
                },
                {
                    "output_type": "execute_result",
                    "data": {
                        "text/plain": [
                            "SVC(C=inf, decision_function_shape='ovo', probability=True, verbose=True)"
                        ]
                    },
                    "metadata": {},
                    "execution_count": 4
                }
            ],
            "metadata": {}
        },
        {
            "cell_type": "code",
            "execution_count": 5,
            "source": [
                "model.score(test_x[:1000], test_y[:1000])"
            ],
            "outputs": [
                {
                    "output_type": "execute_result",
                    "data": {
                        "text/plain": [
                            "0.934"
                        ]
                    },
                    "metadata": {},
                    "execution_count": 5
                }
            ],
            "metadata": {}
        },
        {
            "cell_type": "code",
            "execution_count": 9,
            "source": [
                "start = time.time()\r\n",
                "model = svm.SVC(C=float('inf'), kernel='rbf', gamma=0.01, decision_function_shape='ovo', verbose=True)\r\n",
                "model.fit(train_x, train_y)\r\n",
                "end = time.time()\r\n",
                "print(model.score(test_x[:10000], test_y[:10000]))\r\n",
                "print(end-start)"
            ],
            "outputs": [
                {
                    "output_type": "stream",
                    "name": "stdout",
                    "text": [
                        "[LibSVM]0.9295\n",
                        "14.51099944114685\n"
                    ]
                }
            ],
            "metadata": {}
        },
        {
            "cell_type": "code",
            "execution_count": 12,
            "source": [
                "print(model.score(test_x, test_y))"
            ],
            "outputs": [
                {
                    "output_type": "stream",
                    "name": "stdout",
                    "text": [
                        "0.9313845899653026\n"
                    ]
                }
            ],
            "metadata": {}
        },
        {
            "cell_type": "code",
            "execution_count": null,
            "source": [
                "train_x,test_x,train_y,test_y = train_test_split(test_x,test_y,test_size=0.98)\r\n",
                "train_x.shape"
            ],
            "outputs": [],
            "metadata": {}
        },
        {
            "cell_type": "code",
            "execution_count": null,
            "source": [
                "model.fit(train_x, train_y)\r\n",
                "end = time.time()\r\n",
                "print(model.score(test_x[:10000], test_y[:10000]))\r\n",
                "print(end-start)"
            ],
            "outputs": [],
            "metadata": {}
        },
        {
            "cell_type": "code",
            "execution_count": 29,
            "source": [
                "from tensorflow.keras.utils import to_categorical\r\n",
                "train_x,test_x,train_y,test_y = train_test_split(x,y,test_size=0.975)\r\n",
                "train_y = to_categorical(train_y)\r\n",
                "test_y = to_categorical(test_y)"
            ],
            "outputs": [],
            "metadata": {}
        },
        {
            "cell_type": "code",
            "execution_count": 33,
            "source": [
                "cnn = md.CNN('CNN_hungry')\r\n",
                "cnn.build()\r\n",
                "cnn.compile(opt='adam')\r\n",
                "start = time.time()\r\n",
                "cnn.train(train_x, train_y, b_size=128, ep=20)\r\n",
                "end = time.time()\r\n",
                "print(md.evaluate('CNN_hungry', 'cnn', test_x, test_y)[1])\r\n",
                "print(end-start)"
            ],
            "outputs": [
                {
                    "output_type": "stream",
                    "name": "stdout",
                    "text": [
                        "Epoch 1/20\n",
                        "37/37 [==============================] - 1s 7ms/step - loss: 0.0254 - accuracy: 0.4674\n",
                        "Epoch 2/20\n",
                        "37/37 [==============================] - 0s 7ms/step - loss: 0.0128 - accuracy: 0.7699\n",
                        "Epoch 3/20\n",
                        "37/37 [==============================] - 0s 7ms/step - loss: 0.0083 - accuracy: 0.8546\n",
                        "Epoch 4/20\n",
                        "37/37 [==============================] - 0s 7ms/step - loss: 0.0066 - accuracy: 0.8868\n",
                        "Epoch 5/20\n",
                        "37/37 [==============================] - 0s 7ms/step - loss: 0.0053 - accuracy: 0.9116\n",
                        "Epoch 6/20\n",
                        "37/37 [==============================] - 0s 7ms/step - loss: 0.0045 - accuracy: 0.9246\n",
                        "Epoch 7/20\n",
                        "37/37 [==============================] - 0s 8ms/step - loss: 0.0040 - accuracy: 0.9332\n",
                        "Epoch 8/20\n",
                        "37/37 [==============================] - 0s 8ms/step - loss: 0.0034 - accuracy: 0.9430\n",
                        "Epoch 9/20\n",
                        "37/37 [==============================] - 0s 8ms/step - loss: 0.0031 - accuracy: 0.9502\n",
                        "Epoch 10/20\n",
                        "37/37 [==============================] - 0s 7ms/step - loss: 0.0027 - accuracy: 0.9553\n",
                        "Epoch 11/20\n",
                        "37/37 [==============================] - 0s 8ms/step - loss: 0.0027 - accuracy: 0.9556\n",
                        "Epoch 12/20\n",
                        "37/37 [==============================] - 0s 7ms/step - loss: 0.0024 - accuracy: 0.9605\n",
                        "Epoch 13/20\n",
                        "37/37 [==============================] - 0s 7ms/step - loss: 0.0022 - accuracy: 0.9632\n",
                        "Epoch 14/20\n",
                        "37/37 [==============================] - 0s 7ms/step - loss: 0.0021 - accuracy: 0.9653\n",
                        "Epoch 15/20\n",
                        "37/37 [==============================] - 0s 7ms/step - loss: 0.0019 - accuracy: 0.9668\n",
                        "Epoch 16/20\n",
                        "37/37 [==============================] - 0s 7ms/step - loss: 0.0016 - accuracy: 0.9744\n",
                        "Epoch 17/20\n",
                        "37/37 [==============================] - 0s 7ms/step - loss: 0.0012 - accuracy: 0.9812\n",
                        "Epoch 18/20\n",
                        "37/37 [==============================] - 0s 7ms/step - loss: 0.0011 - accuracy: 0.9831\n",
                        "Epoch 19/20\n",
                        "37/37 [==============================] - 0s 7ms/step - loss: 0.0010 - accuracy: 0.9840\n",
                        "Epoch 20/20\n",
                        "37/37 [==============================] - 0s 8ms/step - loss: 9.8461e-04 - accuracy: 0.9838\n",
                        "11349/11349 [==============================] - 36s 3ms/step - loss: 0.0031 - accuracy: 0.9462\n",
                        "0.9461694955825806\n",
                        "6.024316787719727\n"
                    ]
                }
            ],
            "metadata": {}
        },
        {
            "cell_type": "code",
            "execution_count": null,
            "source": [
                "cnn = md.CNN('CNN_hungry')\r\n",
                "cnn.build()\r\n",
                "cnn.compile(opt='adam')\r\n",
                "start = time.time()\r\n",
                "cnn.train(train_x, train_y, b_size=256, ep=20)\r\n",
                "end = time.time()\r\n",
                "print(md.evaluate('CNN_hungry', 'cnn', test_x, test_y)[1])\r\n",
                "print(end-start)"
            ],
            "outputs": [],
            "metadata": {}
        }
    ],
    "metadata": {
        "orig_nbformat": 4,
        "language_info": {
            "name": "python",
            "version": "3.9.5",
            "mimetype": "text/x-python",
            "codemirror_mode": {
                "name": "ipython",
                "version": 3
            },
            "pygments_lexer": "ipython3",
            "nbconvert_exporter": "python",
            "file_extension": ".py"
        },
        "kernelspec": {
            "name": "python3",
            "display_name": "Python 3.9.5 64-bit"
        },
        "interpreter": {
            "hash": "38740d3277777e2cd7c6c2cc9d8addf5118fdf3f82b1b39231fd12aeac8aee8b"
        }
    },
    "nbformat": 4,
    "nbformat_minor": 2
}